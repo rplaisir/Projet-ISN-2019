{
 "cells": [
  {
   "cell_type": "markdown",
   "metadata": {},
   "source": [
    "# Quelques notions autour d'un exercice de maths"
   ]
  },
  {
   "cell_type": "markdown",
   "metadata": {},
   "source": [
    "### I. Objectif : Milieu et parallélogramme."
   ]
  },
  {
   "cell_type": "markdown",
   "metadata": {},
   "source": [
    "#### I.1. Déterminons les coordonées du milieu I d'un segment [AB]"
   ]
  },
  {
   "cell_type": "markdown",
   "metadata": {},
   "source": [
    "On récupère les coordonnées de A et B grace aux fonctions (built-in) **_input( )_** et **_float( )_**"
   ]
  },
  {
   "cell_type": "code",
   "execution_count": 1,
   "metadata": {},
   "outputs": [
    {
     "name": "stdout",
     "output_type": "stream",
     "text": [
      "Abscisse de A ? 1\n",
      "Ordonnée de A ? 2\n"
     ]
    }
   ],
   "source": [
    "xA = float(input('Abscisse de A ? '))\n",
    "yA = float(input('Ordonnée de A ? '))"
   ]
  },
  {
   "cell_type": "markdown",
   "metadata": {},
   "source": [
    "Faire de même avec le point B !"
   ]
  },
  {
   "cell_type": "code",
   "execution_count": 2,
   "metadata": {},
   "outputs": [
    {
     "name": "stdout",
     "output_type": "stream",
     "text": [
      "Abscisse de B ? 4\n",
      "Ordonnée de B ? -5\n"
     ]
    }
   ],
   "source": [
    "xB = float(input('Abscisse de B ? '))\n",
    "yB = float(input('Ordonnée de B ? '))"
   ]
  },
  {
   "cell_type": "markdown",
   "metadata": {},
   "source": [
    "Utilisons la formule permettant de déterminer les coordonnées de I"
   ]
  },
  {
   "cell_type": "code",
   "execution_count": 3,
   "metadata": {},
   "outputs": [
    {
     "name": "stdout",
     "output_type": "stream",
     "text": [
      "Les coordonnées de I sont ( 2.5 ; -1.5 )\n"
     ]
    }
   ],
   "source": [
    "xI = (xA+xB)/2\n",
    "yI = (yA+yB)/2\n",
    "print('Les coordonnées de I sont (',xI,';',yI,')')"
   ]
  },
  {
   "cell_type": "markdown",
   "metadata": {},
   "source": [
    "### L'objectif de cette séquence sera de créer un programme permettant de tester si un quadrilatère ABCD est un parallélogramme"
   ]
  },
  {
   "cell_type": "markdown",
   "metadata": {},
   "source": [
    "#### I.2. Première étape : création d'une fonction permettant de calculer les coordonnées d'un milieu"
   ]
  },
  {
   "cell_type": "markdown",
   "metadata": {},
   "source": [
    "Il n'est pas très pratique de réecrire les lignes de code précédente pour les points C, D et J.\n",
    "Nous allons donc utiliser les **fonctions**"
   ]
  },
  {
   "cell_type": "markdown",
   "metadata": {},
   "source": [
    "Avant cela il pourrait être utile de découvrir une variable d'un nouveau type : les **_tuples_**"
   ]
  },
  {
   "cell_type": "code",
   "execution_count": 4,
   "metadata": {},
   "outputs": [
    {
     "data": {
      "text/plain": [
       "(5, -2)"
      ]
     },
     "execution_count": 4,
     "metadata": {},
     "output_type": "execute_result"
    }
   ],
   "source": [
    "A = (5,-2)\n",
    "A"
   ]
  },
  {
   "cell_type": "markdown",
   "metadata": {},
   "source": [
    "Il est évident que les tuples sont très pratiques dans notre situation car, on peut définir un point en donnant directement ses coordonnées !"
   ]
  },
  {
   "cell_type": "markdown",
   "metadata": {},
   "source": [
    "**_Remarque :_** Un tuple peut contenir autre chose que des nombres et peut être constitué de plus de 2 éléments !"
   ]
  },
  {
   "cell_type": "code",
   "execution_count": 5,
   "metadata": {},
   "outputs": [],
   "source": [
    "couple = ('2F',33)\n",
    "triplet = (1,2,-7.5)"
   ]
  },
  {
   "cell_type": "markdown",
   "metadata": {},
   "source": [
    "Maintenant que nous savons définir un tuple, il nous faut apprendre à accéder à une valeur du tuple.\n",
    "En fait, un tuple est une \"sorte\" de liste donc chaque élément est indexé (\"numéroté\") en commençant à 0."
   ]
  },
  {
   "cell_type": "code",
   "execution_count": 6,
   "metadata": {},
   "outputs": [
    {
     "data": {
      "text/plain": [
       "5"
      ]
     },
     "execution_count": 6,
     "metadata": {},
     "output_type": "execute_result"
    }
   ],
   "source": [
    "A[0]"
   ]
  },
  {
   "cell_type": "code",
   "execution_count": 7,
   "metadata": {},
   "outputs": [
    {
     "data": {
      "text/plain": [
       "-2"
      ]
     },
     "execution_count": 7,
     "metadata": {},
     "output_type": "execute_result"
    }
   ],
   "source": [
    "A[1]"
   ]
  },
  {
   "cell_type": "markdown",
   "metadata": {},
   "source": [
    "Nous avons tous les éléments pour créer une fonction : \n",
    "on utilise l'instruction **def** nom_fonction (*argument1,argument2,...*)<span style=\"color: #fb4141\"><b>:</b></span>\n",
    "puis l'instruction <span style=\"color: #fb4141\"><b>return</b></span> pour renvoyer un résultat\n",
    "par exemple, créons une fonction milieu."
   ]
  },
  {
   "cell_type": "code",
   "execution_count": 8,
   "metadata": {},
   "outputs": [],
   "source": [
    "def milieu(A,B):\n",
    "    # milieu a 2 arguments les points A et B\n",
    "    xI = (A[0]+B[0])/2\n",
    "    yI = (A[1]+B[1])/2\n",
    "    return (xI,yI)     # la fonction retourne un tuple correspondant aux coordonnées du milieu de [AB] (explication à suivre)"
   ]
  },
  {
   "cell_type": "markdown",
   "metadata": {},
   "source": [
    "Décortiquons un peu ce code :\n",
    "* **def** permet de créer une fonction que l'on nomme _milieu_\n",
    "* cette fonction nécessite deux **arguments** _A_ et _B_ pour être éxécutée\n",
    "* A et B étant des tuples pour permettre d'avoir des coordonnées\n",
    "* l'instruction **return** permet de récupérer les coordonnées du milieu"
   ]
  },
  {
   "cell_type": "markdown",
   "metadata": {},
   "source": [
    "Evaluons cette fonction, A étant déjà définie. Il suffit de créer un deuxième point."
   ]
  },
  {
   "cell_type": "code",
   "execution_count": 9,
   "metadata": {},
   "outputs": [
    {
     "data": {
      "text/plain": [
       "(6.0, 0.5)"
      ]
     },
     "execution_count": 9,
     "metadata": {},
     "output_type": "execute_result"
    }
   ],
   "source": [
    "B = (7,3)\n",
    "K = milieu(A,B)\n",
    "K"
   ]
  },
  {
   "cell_type": "markdown",
   "metadata": {},
   "source": [
    "Evidemment il est possible d'utiliser la fonction milieu avec des points autre que A et B.\n",
    "Par exemple: milieu(C,D)"
   ]
  },
  {
   "cell_type": "code",
   "execution_count": 10,
   "metadata": {},
   "outputs": [
    {
     "data": {
      "text/plain": [
       "(-4.0, -0.5)"
      ]
     },
     "execution_count": 10,
     "metadata": {},
     "output_type": "execute_result"
    }
   ],
   "source": [
    "\"\"\" ci-dessous définissez 2 points C et D, et utiliser la fonction milieu pour trouver les coordonnées de J milieu de [CD]\"\"\"\n",
    "C = (-7,-3)\n",
    "D = (-1,2)\n",
    "milieu(C,D)"
   ]
  },
  {
   "cell_type": "markdown",
   "metadata": {},
   "source": [
    "<br>Maintenant vous pouvez utiliser la fonction _milieu_ pour générer les coordonnées d'autant de milieu que vous le souhaitez!\n"
   ]
  },
  {
   "cell_type": "markdown",
   "metadata": {},
   "source": [
    "#### I.3. Deuxième étape : création d'une fonction parallelogramme"
   ]
  },
  {
   "cell_type": "markdown",
   "metadata": {},
   "source": [
    "L'Objectif est de créer une fonction ayant comme arguments 4 points et retournant un message précisant si le quadrilatère est un parallélogramme ou non !"
   ]
  },
  {
   "cell_type": "code",
   "execution_count": 11,
   "metadata": {},
   "outputs": [],
   "source": [
    "def parallelogramme(A,B,C,D):     \n",
    "    # ABCD parallélogramme ?\n",
    "    # calcul des coordonnées des milieux des 2 diagonales en utilisant la fonction milieu\n",
    "    K = milieu(A,C)    # diagonale [AC]\n",
    "    L = milieu(B,D)    # diagonale [BD]\n",
    "    # test d'égalité des points K et L (sont-ils confondus ?)\n",
    "    if K == L:\n",
    "        print(\"Le quadrilatère est un parallélogramme\")\n",
    "        return True       # retourne la valeur True (vraie)\n",
    "    else :\n",
    "        print(\"Le quadrilatère n'est pas un parallélogramme\")\n",
    "        return False       # retourne la valeur False (False)\n",
    "        \n",
    "    \n",
    "    \n",
    "    \n",
    "    \n",
    "    "
   ]
  },
  {
   "cell_type": "markdown",
   "metadata": {},
   "source": [
    "Testez votre programme avec le code suivant avec 4 points, par exemple M,N,P et Q !"
   ]
  },
  {
   "cell_type": "code",
   "execution_count": 12,
   "metadata": {},
   "outputs": [
    {
     "name": "stdout",
     "output_type": "stream",
     "text": [
      "Le quadrilatère n'est pas un parallélogramme\n"
     ]
    },
    {
     "data": {
      "text/plain": [
       "False"
      ]
     },
     "execution_count": 12,
     "metadata": {},
     "output_type": "execute_result"
    }
   ],
   "source": [
    "M = (3,7)\n",
    "N = (-2,5)\n",
    "P = (5,2)\n",
    "Q = (1,6)\n",
    "parallelogramme(M,N,P,Q)\n"
   ]
  },
  {
   "cell_type": "code",
   "execution_count": 13,
   "metadata": {},
   "outputs": [
    {
     "name": "stdout",
     "output_type": "stream",
     "text": [
      "Le quadrilatère est un parallélogramme\n"
     ]
    },
    {
     "data": {
      "text/plain": [
       "True"
      ]
     },
     "execution_count": 13,
     "metadata": {},
     "output_type": "execute_result"
    }
   ],
   "source": [
    "R = (-1,2)\n",
    "S = (2,7)\n",
    "T = (8,8)\n",
    "U = (5,3)\n",
    "parallelogramme(R,S,T,U)\n"
   ]
  },
  {
   "cell_type": "markdown",
   "metadata": {},
   "source": [
    "## Bravo, vous avez fini le premier objectif ! Il ne reste plus qu'à regrouper toutes les fonctions dans Spyder, pour avoir un programme complet !"
   ]
  },
  {
   "cell_type": "markdown",
   "metadata": {},
   "source": [
    "### II. Objectif : utilisation de la distance."
   ]
  },
  {
   "cell_type": "markdown",
   "metadata": {},
   "source": [
    "#### II.1 Distance"
   ]
  },
  {
   "cell_type": "markdown",
   "metadata": {},
   "source": [
    "Après avoir créer une fonction milieu, ne nous aretons pas en si bon chemin !\n",
    "Nous allons créer une fonction <b><i>distance</i></b> ayant 2 points comme arguments et retournant un réel (la distance)"
   ]
  },
  {
   "cell_type": "code",
   "execution_count": 14,
   "metadata": {},
   "outputs": [],
   "source": [
    "from math import *    # permet d'utiliser la fonction racine carrée noté sqrt\n",
    "def distance(A,B):\n",
    "    # pour les puissances on utilise ** par exemple a² on écrit a**2\n",
    "    d = sqrt((B[0]-A[0])**2+(B[1]-A[1])**2)\n",
    "    \n",
    "    return d"
   ]
  },
  {
   "cell_type": "code",
   "execution_count": 15,
   "metadata": {},
   "outputs": [
    {
     "data": {
      "text/plain": [
       "5.385164807134504"
      ]
     },
     "execution_count": 15,
     "metadata": {},
     "output_type": "execute_result"
    }
   ],
   "source": [
    "distance(M,N)"
   ]
  },
  {
   "cell_type": "code",
   "execution_count": 16,
   "metadata": {},
   "outputs": [
    {
     "name": "stdout",
     "output_type": "stream",
     "text": [
      "6.082762530298219\n"
     ]
    }
   ],
   "source": [
    "ST = distance(S,T)\n",
    "print(ST)"
   ]
  },
  {
   "cell_type": "markdown",
   "metadata": {},
   "source": [
    "#### II.2 Triangle rectangle"
   ]
  },
  {
   "cell_type": "markdown",
   "metadata": {},
   "source": [
    "Nous allons maintenant créer une fonction <b><i>pythagore</i></b> ayant 3 points comme arguments et qui retourne un message indiquant si le triangle est rectangle ou non."
   ]
  },
  {
   "cell_type": "code",
   "execution_count": 17,
   "metadata": {},
   "outputs": [],
   "source": [
    "def pythagore (A,B,C):\n",
    "    # calcul des 3 distances\n",
    "    AB = distance(A,B)\n",
    "    BC = distance(A,C)\n",
    "    AC = distance(B,C)\n",
    "    # test des 3 égalités de Pythagore\n",
    "    if AB**2 + AC**2 == BC**2 or AB**2 + BC**2 == AC**2 or AC**2 + BC**2 == AB**2:\n",
    "        print(\"Le triangle est rectngle\")\n",
    "        return True\n",
    "    else:\n",
    "        print(\"Le triangle n'est pas rectngle\")\n",
    "        return False  \n",
    "    \n",
    "    \n",
    "    "
   ]
  },
  {
   "cell_type": "code",
   "execution_count": 18,
   "metadata": {},
   "outputs": [
    {
     "name": "stdout",
     "output_type": "stream",
     "text": [
      "Le triangle n'est pas rectngle\n"
     ]
    },
    {
     "data": {
      "text/plain": [
       "False"
      ]
     },
     "execution_count": 18,
     "metadata": {},
     "output_type": "execute_result"
    }
   ],
   "source": [
    "pythagore(R,S,T)"
   ]
  },
  {
   "cell_type": "code",
   "execution_count": 19,
   "metadata": {},
   "outputs": [
    {
     "name": "stdout",
     "output_type": "stream",
     "text": [
      "Le triangle est rectngle\n"
     ]
    },
    {
     "data": {
      "text/plain": [
       "True"
      ]
     },
     "execution_count": 19,
     "metadata": {},
     "output_type": "execute_result"
    }
   ],
   "source": [
    "# avec 3 autres points\n",
    "O = (0,0)\n",
    "A = (5,0)\n",
    "B = (0,7)\n",
    "pythagore(O,A,B)"
   ]
  },
  {
   "cell_type": "markdown",
   "metadata": {},
   "source": [
    "#### II.3 Losange et rectangle"
   ]
  },
  {
   "cell_type": "markdown",
   "metadata": {},
   "source": [
    "Utilisez les fonctions parallelogramme distance et pythagore pour créer deux fonctions <b>retangle</b> et <b>losange</b> permettant de dire si un quadrilatère est particulier."
   ]
  },
  {
   "cell_type": "markdown",
   "metadata": {},
   "source": [
    "<b>Remarque :</b> les fonctions <b>parallelogramme</b> et <b>pythagore</b> retourneront <span style=\"color: #fb4141\">True</span> ou <span style=\"color: #fb4141\">False </span> pour simplifier le codage."
   ]
  },
  {
   "cell_type": "markdown",
   "metadata": {},
   "source": [
    "<b>Bon Courage ! </b>"
   ]
  },
  {
   "cell_type": "code",
   "execution_count": 20,
   "metadata": {},
   "outputs": [],
   "source": [
    "def losange(A,B,C,D):\n",
    "    # version utilisant les 4 distances\n",
    "    if distance(A,B) == distance(B,C) == distance(C,D) == distance(A,D):\n",
    "        print(\"le quadrilatère est un losange\")\n",
    "        return True\n",
    "    else:\n",
    "        print(\"le quadrilatère n'est pas un losange\")\n",
    "        return False  \n",
    "    \n",
    "    "
   ]
  },
  {
   "cell_type": "code",
   "execution_count": 21,
   "metadata": {},
   "outputs": [
    {
     "name": "stdout",
     "output_type": "stream",
     "text": [
      "le quadrilatère n'est pas un losange\n"
     ]
    },
    {
     "data": {
      "text/plain": [
       "False"
      ]
     },
     "execution_count": 21,
     "metadata": {},
     "output_type": "execute_result"
    }
   ],
   "source": [
    "# on utilise les points R, S , T et U précédemment utilisés (RSTU est parallélogramme)\n",
    "losange(R,S,T,U)"
   ]
  },
  {
   "cell_type": "code",
   "execution_count": 22,
   "metadata": {},
   "outputs": [
    {
     "name": "stdout",
     "output_type": "stream",
     "text": [
      "le quadrilatère est un losange\n"
     ]
    },
    {
     "data": {
      "text/plain": [
       "True"
      ]
     },
     "execution_count": 22,
     "metadata": {},
     "output_type": "execute_result"
    }
   ],
   "source": [
    "# je redéfinie 4 points M,N,P et Q\n",
    "M = (0,1)\n",
    "N = (3,0)\n",
    "P = (0,-1)\n",
    "Q = (-3,0)\n",
    "losange(M,N,P,Q)"
   ]
  },
  {
   "cell_type": "markdown",
   "metadata": {},
   "source": [
    "#### Fonction losange utilisant la fonction parallélogramme"
   ]
  },
  {
   "cell_type": "code",
   "execution_count": 23,
   "metadata": {},
   "outputs": [],
   "source": [
    "def losange_ver2(A,B,C,D):\n",
    "    # version utilisant ABCD parallelogramme et 2 cotés consécutifs égaux\n",
    "    if parallelogramme(A,B,C,D) and distance(A,B) == distance(B,C):\n",
    "        # il faut que les 2 conditions soient réunies parallelogramme(A,B,C,D) : True et  distance(A,B) == distance(B,C) : True\n",
    "        print(\"le quadrilatère est un losange\")\n",
    "        return True\n",
    "    else:\n",
    "        print(\"le quadrilatère n'est pas un losange\")\n",
    "        return False"
   ]
  },
  {
   "cell_type": "code",
   "execution_count": 24,
   "metadata": {},
   "outputs": [
    {
     "name": "stdout",
     "output_type": "stream",
     "text": [
      "Le quadrilatère est un parallélogramme\n",
      "le quadrilatère n'est pas un losange\n"
     ]
    },
    {
     "data": {
      "text/plain": [
       "False"
      ]
     },
     "execution_count": 24,
     "metadata": {},
     "output_type": "execute_result"
    }
   ],
   "source": [
    "losange_ver2(R,S,T,U)\n",
    "# Remarque : Si vous ne voulez pas de la phrase \"Le quadrilatère est un parallélogramme\"\n",
    "# il faut supprimer le \"print\" dans la foncion parallelogramme"
   ]
  },
  {
   "cell_type": "code",
   "execution_count": 25,
   "metadata": {},
   "outputs": [
    {
     "name": "stdout",
     "output_type": "stream",
     "text": [
      "Le quadrilatère est un parallélogramme\n",
      "le quadrilatère est un losange\n"
     ]
    },
    {
     "data": {
      "text/plain": [
       "True"
      ]
     },
     "execution_count": 25,
     "metadata": {},
     "output_type": "execute_result"
    }
   ],
   "source": [
    "losange_ver2(M,N,P,Q)\n",
    "# Remarque : Si vous ne voulez pas de la phrase \"Le quadrilatère est un parallélogramme\"\n",
    "# il faut supprimer le \"print\" dans la foncion parallelogramme"
   ]
  },
  {
   "cell_type": "markdown",
   "metadata": {},
   "source": [
    "<br>\n",
    "Pour la fonction rectangle vous devrez utiliser la fonction parallelogramme et la fonction distance ou la fonction pythagore.\n",
    "<br>"
   ]
  },
  {
   "cell_type": "code",
   "execution_count": 26,
   "metadata": {},
   "outputs": [
    {
     "ename": "SyntaxError",
     "evalue": "unexpected EOF while parsing (<ipython-input-26-5cada17550d4>, line 2)",
     "output_type": "error",
     "traceback": [
      "\u001b[1;36m  File \u001b[1;32m\"<ipython-input-26-5cada17550d4>\"\u001b[1;36m, line \u001b[1;32m2\u001b[0m\n\u001b[1;33m    \u001b[0m\n\u001b[1;37m    ^\u001b[0m\n\u001b[1;31mSyntaxError\u001b[0m\u001b[1;31m:\u001b[0m unexpected EOF while parsing\n"
     ]
    }
   ],
   "source": [
    "def rectangle(A,B,C,D):\n",
    "    "
   ]
  }
 ],
 "metadata": {
  "kernelspec": {
   "display_name": "Python 3",
   "language": "python",
   "name": "python3"
  },
  "language_info": {
   "codemirror_mode": {
    "name": "ipython",
    "version": 3
   },
   "file_extension": ".py",
   "mimetype": "text/x-python",
   "name": "python",
   "nbconvert_exporter": "python",
   "pygments_lexer": "ipython3",
   "version": "3.7.3"
  }
 },
 "nbformat": 4,
 "nbformat_minor": 2
}
